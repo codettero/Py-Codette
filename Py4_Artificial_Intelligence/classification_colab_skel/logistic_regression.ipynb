{
  "nbformat": 4,
  "nbformat_minor": 0,
  "metadata": {
    "colab": {
      "name": "logistic_regression.ipynb",
      "version": "0.3.2",
      "views": {},
      "default_view": {},
      "provenance": [],
      "toc_visible": true
    },
    "kernelspec": {
      "display_name": "Python 3",
      "language": "python",
      "name": "python3"
    },
    "accelerator": "GPU"
  },
  "cells": [
    {
      "metadata": {
        "id": "FVDe4oXgHr4O",
        "colab_type": "text"
      },
      "cell_type": "markdown",
      "source": [
        "# Spam Detection folosind Logistic Regression"
      ]
    },
    {
      "metadata": {
        "id": "mzQfNUSXWwjR",
        "colab_type": "code",
        "colab": {
          "autoexec": {
            "startup": false,
            "wait_interval": 0
          },
          "base_uri": "https://localhost:8080/",
          "height": 34
        },
        "outputId": "eb325982-fd09-4081-d2f8-e72d6098bfd0",
        "executionInfo": {
          "status": "ok",
          "timestamp": 1529177576962,
          "user_tz": -180,
          "elapsed": 1643,
          "user": {
            "displayName": "Mihaela Găman",
            "photoUrl": "https://lh3.googleusercontent.com/a/default-user=s128",
            "userId": "105187480298227677604"
          }
        }
      },
      "cell_type": "code",
      "source": [
        "!ls"
      ],
      "execution_count": 1,
      "outputs": [
        {
          "output_type": "stream",
          "text": [
            "datalab  spam.csv  spam.csv.1  spam.csv.2  spam.csv.3\r\n"
          ],
          "name": "stdout"
        }
      ]
    },
    {
      "metadata": {
        "id": "hsdLmk70TPjY",
        "colab_type": "text"
      },
      "cell_type": "markdown",
      "source": [
        "Implementam modulul utils ce conține plot_learning_curve, de care ne vom folosi pe parcurs. "
      ]
    },
    {
      "metadata": {
        "id": "cGe1o5VEYLzK",
        "colab_type": "code",
        "colab": {
          "autoexec": {
            "startup": false,
            "wait_interval": 0
          },
          "base_uri": "https://localhost:8080/",
          "height": 106
        },
        "outputId": "d487b00c-79ee-40d0-8f28-ce5eee56d017",
        "executionInfo": {
          "status": "ok",
          "timestamp": 1529177577757,
          "user_tz": -180,
          "elapsed": 712,
          "user": {
            "displayName": "Mihaela Găman",
            "photoUrl": "https://lh3.googleusercontent.com/a/default-user=s128",
            "userId": "105187480298227677604"
          }
        }
      },
      "cell_type": "code",
      "source": [
        "import matplotlib.pyplot as plt\n",
        "import copy\n",
        "import random\n",
        "import pandas as pd\n",
        "\n",
        "# data preprocessing\n",
        "from sklearn import preprocessing\n",
        "\n",
        "# compute stuff\n",
        "from sklearn.cross_validation import cross_val_score\n",
        "import numpy as np\n",
        "\n",
        "from sklearn.learning_curve import learning_curve\n",
        "\n",
        "# Useful to plot the learning curve: training vs cross-validation\n",
        "def plot_learning_curve(estimator, title, X, y, ylim=None, cv=None,\n",
        "                        n_jobs=-1, train_sizes=np.linspace(.1, 1.0, 5)):\n",
        "    plt.figure()\n",
        "    plt.title(title)\n",
        "    if ylim is not None:\n",
        "        plt.ylim(*ylim)\n",
        "    plt.xlabel(\"Training examples\")\n",
        "    plt.ylabel(\"Score\")\n",
        "    train_sizes, train_scores, test_scores = learning_curve(\n",
        "        estimator, X, y, cv=cv, n_jobs=n_jobs, train_sizes=train_sizes)\n",
        "    train_scores_mean = np.mean(train_scores, axis=1)\n",
        "    train_scores_std = np.std(train_scores, axis=1)\n",
        "    test_scores_mean = np.mean(test_scores, axis=1)\n",
        "    test_scores_std = np.std(test_scores, axis=1)\n",
        "    plt.grid()\n",
        "\n",
        "    plt.fill_between(train_sizes, train_scores_mean - train_scores_std,\n",
        "                     train_scores_mean + train_scores_std, alpha=0.1,\n",
        "                     color=\"r\")\n",
        "    plt.fill_between(train_sizes, test_scores_mean - test_scores_std,\n",
        "                     test_scores_mean + test_scores_std, alpha=0.1, color=\"g\")\n",
        "    plt.plot(train_sizes, train_scores_mean, 'o-', color=\"r\",\n",
        "             label=\"Training score\")\n",
        "    plt.plot(train_sizes, test_scores_mean, 'o-', color=\"g\",\n",
        "             label=\"Cross-validation score\")\n",
        "\n",
        "    plt.legend(loc=\"best\")\n",
        "    return plt\n"
      ],
      "execution_count": 2,
      "outputs": [
        {
          "output_type": "stream",
          "text": [
            "/usr/local/lib/python3.6/dist-packages/sklearn/cross_validation.py:41: DeprecationWarning: This module was deprecated in version 0.18 in favor of the model_selection module into which all the refactored classes and functions are moved. Also note that the interface of the new CV iterators are different from that of this module. This module will be removed in 0.20.\n",
            "  \"This module will be removed in 0.20.\", DeprecationWarning)\n",
            "/usr/local/lib/python3.6/dist-packages/sklearn/learning_curve.py:22: DeprecationWarning: This module was deprecated in version 0.18 in favor of the model_selection module into which all the functions are moved. This module will be removed in 0.20\n",
            "  DeprecationWarning)\n"
          ],
          "name": "stderr"
        }
      ]
    },
    {
      "metadata": {
        "id": "BPSAhy9gHr4T",
        "colab_type": "code",
        "colab": {
          "autoexec": {
            "startup": false,
            "wait_interval": 0
          },
          "base_uri": "https://localhost:8080/",
          "height": 72
        },
        "outputId": "a6b48968-1cb5-45ff-d776-a2f6ae1843ab",
        "executionInfo": {
          "status": "ok",
          "timestamp": 1529177578646,
          "user_tz": -180,
          "elapsed": 645,
          "user": {
            "displayName": "Mihaela Găman",
            "photoUrl": "https://lh3.googleusercontent.com/a/default-user=s128",
            "userId": "105187480298227677604"
          }
        }
      },
      "cell_type": "code",
      "source": [
        "import matplotlib.pyplot as plt\n",
        "\n",
        "import numpy as np\n",
        "import pandas as pd\n",
        "\n",
        "from sklearn.grid_search import GridSearchCV\n",
        "from sklearn.linear_model import LogisticRegression\n",
        "from sklearn.linear_model import SGDClassifier\n",
        "\n",
        "from sklearn.metrics import roc_curve, auc\n",
        "from sklearn.feature_extraction.text import TfidfVectorizer\n",
        "from sklearn.model_selection import StratifiedKFold, cross_val_score\n",
        "from sklearn.metrics import classification_report, f1_score, accuracy_score, confusion_matrix\n",
        "\n",
        "import seaborn as sns; sns.set()\n",
        "\n",
        "#from utils import plot_learning_curve"
      ],
      "execution_count": 3,
      "outputs": [
        {
          "output_type": "stream",
          "text": [
            "/usr/local/lib/python3.6/dist-packages/sklearn/grid_search.py:42: DeprecationWarning: This module was deprecated in version 0.18 in favor of the model_selection module into which all the refactored classes and functions are moved. This module will be removed in 0.20.\n",
            "  DeprecationWarning)\n"
          ],
          "name": "stderr"
        }
      ]
    },
    {
      "metadata": {
        "id": "iTnMwP0FHr4c",
        "colab_type": "text"
      },
      "cell_type": "markdown",
      "source": [
        "## AUC ROC\n",
        "\n",
        "Acesta este de fapt un grafic ce va fi plotat cu scopul de a evalua în ce măsură avem specificitate în modelul nostru, versus sensibilitate.\n",
        "\n",
        "**Specificitatea** modelului este dată de rata de true positives (adică dacă eu vreau ca modelul să prezică spam, specificitatea va fi dată de nr de predicții 'spam' care sunt și corecte).\n",
        "\n",
        "**Sensibilitatea** reprezintă cât de mult s-a înșelat modelul din punctul de vedere al sample-urilor pozitive. Adică câte false negatives a dat în faza de test.\n",
        "\n",
        "AUC - Area Under the Curve\n",
        "ROC - Receiver Operating Characteristic\n",
        "\n",
        "Note:\n",
        "- îmi doresc un AUC cu cât mai mult peste 0.5, ca să pot avea încredere în puterea de predicție a modelului meu.\n",
        "- AUC ROC îmi dă niște indicii despre acuratețe, da ele nu reprezintă același lucru. Cu alte cuvinte, pentru seturi de date nebalansate (în care am muuulte sample-uri dintr-o clasă și extrem de puține din alta) nu mai pot avea prea mare încredere în acuratețea overall.\n",
        "\n",
        "Nu trebuie să vă faceți griji dacă nu înțelegeți foarte bine codul acesta de plotare, căci este un helper care ne va ajuta să vizualizăm niște rezultate. Nu influențează cu nimic partea de ML implementată aici. "
      ]
    },
    {
      "metadata": {
        "id": "LjdQJMVYHr4d",
        "colab_type": "code",
        "colab": {
          "autoexec": {
            "startup": false,
            "wait_interval": 0
          }
        }
      },
      "cell_type": "code",
      "source": [
        "# Plot roc curve for a specific class\n",
        "def plot_roc_curve(fpr, tpr, roc_auc, rc_msg=\"Test Data\\n\"):\n",
        "    plt.figure()\n",
        "    lw = 2\n",
        "    plt.plot(fpr, tpr, color='darkorange', lw=lw, label='ROC curve (area = %0.2f)' % roc_auc)\n",
        "    plt.plot([0, 1], [0, 1], color='navy', lw=lw, linestyle='--')\n",
        "    plt.xlim([0.0, 1.0])\n",
        "    plt.ylim([0.0, 1.05])\n",
        "    plt.xlabel('False Positive Rate')\n",
        "    plt.ylabel('True Positive Rate')\n",
        "    plt.title(rc_msg + 'Receiver operating characteristic')\n",
        "    plt.legend(loc=\"lower right\")\n",
        "    plt.show()"
      ],
      "execution_count": 0,
      "outputs": []
    },
    {
      "metadata": {
        "id": "7_s22F89Hr4j",
        "colab_type": "code",
        "colab": {
          "autoexec": {
            "startup": false,
            "wait_interval": 0
          }
        }
      },
      "cell_type": "code",
      "source": [
        "def compute_roc_auc(y_test, y_score):\n",
        "    # Compute ROC curve and ROC area for each class\n",
        "    fpr, tpr, _ = roc_curve(y_test, y_score)\n",
        "    # We are interested in the false positives rate and also the true positive rate\n",
        "    roc_auc = auc(fpr, tpr)\n",
        "    return fpr, tpr, roc_auc"
      ],
      "execution_count": 0,
      "outputs": []
    },
    {
      "metadata": {
        "id": "s2i8MYsRHr4q",
        "colab_type": "text"
      },
      "cell_type": "markdown",
      "source": [
        "## Mean & Standard Deviation\n",
        "\n",
        "Avem aici o funcție care nu face prea multe :)\n",
        "Primește o listă și un mesaj și printează mesajul însoțit de media aritmetică și deviația standard a valorilor din listă.\n",
        "\n",
        "Media aritmetică o să presupun că știți cu ce se mănâncă.\n",
        "Haidem să auzim 3 vorbe despre deviația standard:\n",
        "- ne dă o idee despre precizia modelului nostru.\n",
        "- dacă de exemplu noi avem o listă în care fiecare element reprezintă acuratețea obținută în fiecare rundă de test pe date diferite, ne-ar interesa să știm cam la ce distanță au fost acele acurateți. Asta ne zice deviația standard.\n",
        "- o deviație standard mare, se traduce drept o precizie mai mică.\n",
        "- vrem ca std dev să fie cât mai mic."
      ]
    },
    {
      "metadata": {
        "id": "g-tY3pfcHr4r",
        "colab_type": "code",
        "colab": {
          "autoexec": {
            "startup": false,
            "wait_interval": 0
          }
        }
      },
      "cell_type": "code",
      "source": [
        "def print_mean(vals_lst, msg):\n",
        "    print(\"-----------------------------------------------------------------------------\")\n",
        "    print(msg,  np.mean(vals_lst), np.std(vals_lst) )\n",
        "    print(\"-----------------------------------------------------------------------------\\n\")"
      ],
      "execution_count": 0,
      "outputs": []
    },
    {
      "metadata": {
        "id": "Ra9HOIGXHr4x",
        "colab_type": "text"
      },
      "cell_type": "markdown",
      "source": [
        "## Un pas din Logistic Regression\n",
        "\n",
        "Avem următoarele etape:\n",
        "\n",
        "1. **Efectuăm o normalizare a feature-urilor pe care le avem.**\n",
        "    Problema pe care o studiem noi aici trimite mult în zona de Natural Language Processing. Aici atributele (features) sunt cuvintele. Problema este că aceste metode pe care le folosim (SVM, Logistic Regression, etc) nu prea se descurcă cu altceva decât numere, așa că este nevoie de treaba asta cu transformarea. Ceea ce este special la tfidf este că el previne acordarea unui scor prea mare (numărul la care se face conversia cuvintelor) acelor cuvinte care apar frecvent dar care au conținut informațional slab.\n",
        "    - 1.1. Există clasa **TfidfVectorizer** care se poate ocupa de tot ce am vorbit noi mai sus.\n",
        "    - 1.2. Vom folosi **fit_transform** ca să ne convertim feature-urile noastre care sunt de fapt cuvinte. Această funcție face de fapt un dicționar în care cheia este cuvântul iar valoarea este feature-ul numeric.\n",
        "    - 1.3. Folosim **transform** pentru datele de test **X_te**, pentru că aici nu ne mai trebuie acel dicționar, ci doar feature-urile transformate numeric.\n",
        "\n",
        "2. \n",
        "    - 2.1. **Alegem ce parametri vrem să optimizăm.** \n",
        "   Noi vom opta pentru **C-value** aici, acesta fiind foarte similar ca și semnificație și interpretare cu C-value-ul de la SVM despre care am discutat adineauri în cadrul acestui workshop.\n",
        "   \n",
        "    - 2.2. **Inițializăm modelul**.\n",
        "    Aici vom folosi **LogisticRegression** din sklearn, pe care l-am importat deja mai sus.\n",
        "    Ca și parametru, vom avea **random_state**=100 (seed-ul folosit de pseudo random number generator-ul folosit când se face shuffle la date).\n",
        "3. **Inițializăm un obiect de tipul GridSearchCV** \n",
        "    acesta va fi în stare să folosească un clasificator custom (în cazul nostru **clf**) și să optimizeze o metrică aleasă (în cazul nostru **accuracy**), iar ca să facă asta o să ne aleagă cel mai bun parametru dintr-o mulțime dată (în cazul nostru acel C-score din mulțimea **p_grid**). \n",
        "4. După ce am făcut fit la date în grid, o să avem deja un best_score_ și best_params_:\n",
        "    - 4.1. adăugăm best_score_ la finalul listei cu acurateti de validare, pe care o mărim cu 1 elem la fiecare pas din SVM.\n",
        "    - 4.2. Potrivim cei mai buni parametri grid.best_params_ în clf (practic re-inițializăm clf la un LogisticRegression mai tunat).\n",
        "5. Începem să punem clasificatorul optimizat la treabă:\n",
        "    - 5.1. potrivim (**fit**) **X_tr** și **Y_tr** în clasificator (**clf**).\n",
        "    - 5.2. stocăm în **preds_fold** predicțiile lui clf pe datele de test **X_te**. Obținem aceste **predicții binare** (aparține/nu aparține clasei spam/ham) folosind funcția **predict** implementată în LogisticRegression. \n",
        "    - 5.3. folosim **predict_proba** din **clf** și cu **X_te** drept parametru ca să obținem încrederea în fiecare predicție (cât la sută crede modelul meu că un sample dat poate fi clasificat drept spam/ham).\n",
        "6. Se stochează predicțiile (atât cele binare cât și cele sub-unitare aka procente normalizate la 1).\n",
        "   - **NOTĂ**: se folosește aici funcția **extend** pentru că ceea ce obținem noi din predict/decision_function sunt liste. Iar noi vrem să extindem o listă curentă cu elementele din listele respective ci nu să adăugăm (append) listele acelea la lista finală de predicții. "
      ]
    },
    {
      "metadata": {
        "id": "8Ws9fL8QHr4z",
        "colab_type": "code",
        "colab": {
          "autoexec": {
            "startup": false,
            "wait_interval": 0
          }
        }
      },
      "cell_type": "code",
      "source": [
        "def lr_useful_work(X_tr, Y_tr, X_te, Y_te, preds, preds_scores, f1_folds, val_accuracy):\n",
        "    # 1.1. Vectorise for the current fold\n",
        "    vectorizer = TfidfVectorizer(ngram_range=(1, 3), min_df=2, token_pattern=r'(?u)\\b[@#]?\\w[\\w_]+\\b',)\n",
        "\n",
        "    # TODO 1.2. The new X_tr becomes a dictionary {word: numeric_feature}\n",
        "    #      in order to obtain this, use fit_transform applied on vectorizer and with the old X_tr as parameter\n",
        "\n",
        "    \n",
        "    # TODO 1.3. Simply re-initialize X_te to a feature vector obtained using the transform function from vectorizer \n",
        "\n",
        "\n",
        "    # 2.1. Params to optimise\n",
        "    p_grid = {\"C\": [1e-1, 1e0, 1e1, 1e2, 1e3, 1e4, 1e5]}\n",
        "\n",
        "    # TODO 2.2.. The model that will be transformed into a model able to differentiate between two classes\n",
        "    # use LogisticRegression as classifier, with random_state=100 as parameter\n",
        "\n",
        "\n",
        "    # TODO 3. initialize the grid\n",
        "    # use GridSearchCV, with: clf as estimator, p_grid as param_grid and accuracy as scoring measure \n",
        "\n",
        "    \n",
        "    # TODO 4. The grid declared earlier has a method 'fit' \n",
        "    # fit is useful in **fitting** the training data to the requirements of the model\n",
        "    # use it to fit X_tr and Y_tr to the model\n",
        "\n",
        "    \n",
        "    print(grid.best_params_)\n",
        "    print(grid.best_score_)\n",
        "    \n",
        "    # TODO 4.1. Append the best_score_ in grid to the validation accuracy list val_accuracy\n",
        "\n",
        "\n",
        "    # TODO 4.2. Re-initialize clf, but this time you know that for the C parameter, the optimal grid.best_params_['C']\n",
        "    #      discovered above should be used.\n",
        "\n",
        "\n",
        "    # TODO 5.1. Fit the training data X_tr and Y_tr to the classifier \n",
        "\n",
        "\n",
        "    # TODO 5.2. Use predict (a method that can be applied on clf) with the test data X_te \n",
        "    #      to get the predictions (0, 1) for each class\n",
        "\n",
        "    \n",
        "    # 5.3. use predict_proba (also from clf and with X_te as parameter) to get scores for each class\n",
        "    #      So unlike predict, predict_proba will give the confidence in percents (normalized to 1) in each class. \n",
        "    preds_fold_scores = clf.predict_proba(X_te)[:, 1]\n",
        "\n",
        "    f1_folds.append(f1_score(Y_te, preds_fold))\n",
        "\n",
        "    # TODO 6.1. store the predictions (preds) obtained in this step for future computations \n",
        "    #      regarding the performance of the model aka extend preds with preds_fold\n",
        "\n",
        "    # TODO 6.2. extend preds_scores with preds_fold_scores\n",
        "\n",
        "    \n",
        "    return vectorizer, clf, preds, preds_scores, f1_folds, val_accuracy"
      ],
      "execution_count": 0,
      "outputs": []
    },
    {
      "metadata": {
        "id": "MfOKO9kFHr46",
        "colab_type": "code",
        "colab": {
          "autoexec": {
            "startup": false,
            "wait_interval": 0
          }
        }
      },
      "cell_type": "code",
      "source": [
        "def run_lr(X, Y, skf):\n",
        "    fold_count = 1\n",
        "    f1_folds = []\n",
        "    val_accuracy = []\n",
        "    preds = []\n",
        "    preds_scores = []\n",
        "    # ground truth\n",
        "    test_gt = []\n",
        "\n",
        "    X_tr_all = []\n",
        "    Y_tr_all = []\n",
        "    \n",
        "    # nested cross-validation\n",
        "    for train_index, test_index in skf.split(X, Y):\n",
        "        print(\"Fold \", fold_count)\n",
        "        print(\"----\")\n",
        "        fold_count+=1\n",
        "\n",
        "        # split into train and test\n",
        "        X_tr, Y_tr = X[train_index], Y[train_index]\n",
        "        X_te, Y_te = X[test_index], Y[test_index]\n",
        "        \n",
        "        X_tr_all.extend(X_tr)\n",
        "        Y_tr_all.extend(Y_tr)\n",
        "\n",
        "        vectorizer, clf, preds, preds_scores, f1_folds, val_accuracy = \\\n",
        "        lr_useful_work(X_tr, Y_tr, X_te, Y_te, preds, preds_scores, f1_folds, val_accuracy)\n",
        "        \n",
        "        test_gt += Y_te.tolist()\n",
        "        \n",
        "        print (\"----\")\n",
        "        \n",
        "    return X_tr_all, Y_tr_all, preds, preds_scores, test_gt, f1_folds, val_accuracy, vectorizer, clf"
      ],
      "execution_count": 0,
      "outputs": []
    },
    {
      "metadata": {
        "id": "jDAQGASIHr4_",
        "colab_type": "text"
      },
      "cell_type": "markdown",
      "source": [
        "## Metrici și Grafice de Interes\n",
        "\n",
        "### 1. Acuratețe\n",
        "\n",
        "Număr de predicții corecte din nr total de predicții.\n",
        "\n",
        "### 2. F1-Score\n",
        "\n",
        "Media armonică dintre precizie și recall:\n",
        "2 * (precision * recall) / (precision + recall).\n",
        "\n",
        "Acesta se uită atât la exemplele pozitive cât și la cele negative din dataset. Deci ne dă o încredere mai mare în performanță dacă avem de-a face cu un dataset neechilibrat (asemeni AUC ROC).\n",
        "\n",
        "### 3. Curbă de Învățare\n",
        "\n",
        "Curba de învățare ne spune cât de bine s-a descurcat modelul în faza de training. Sau, altfel spus, cât de bine a învățat acesta.\n",
        "\n",
        "### 4. Raport de Clasificare\n",
        "\n",
        "Ne arată următoarele valori, pentru fiecare clasă (în cazul nostru SPAM/HAM):\n",
        "\n",
        "- **precizie** = tp / (tp + fp). Adică numărul de true positives (exemple clasificate corect ca aparținând clasei 1) din câte positive a clasificat de fapt modelul. Ne zice de fapt puterea de predicție a sample-urilor pozitive.\n",
        "- **recall**: = tp / (tp + fn). Adică câte am clasificat drept pozitive din câte pozitive erau de fapt.\n",
        "- **f1-score**: vezi mai sus.\n",
        "- **suport**: câte sample-uri avem pe care s-a calculat respectivul scor.\n",
        "\n",
        "### 5. AUC ROC\n",
        "\n",
        "Vrem să fie cu cât mai mult peste 0.5, ca să putem avea încredere în puterea de predicție a modelului.\n",
        "\n",
        "AUC ROC dă indicii despre acuratețe, dar nu avem termen de comparație cu acuratețea . Cu alte cuvinte, pentru seturi de date nebalansate (în care am muuulte sample-uri dintr-o clasă și extrem de puține din alta) nu mai pot avea prea mare încredere în acuratețea overall. Atunci AUC ROC îmi vine-n ajutor.\n",
        "\n",
        "\n",
        "### 6. Matrice de Confuzie\n",
        "\n",
        "În general o să ne dorim o culoare cât mai închisă pe diagonala principală. Aici vom avea True Positives și True Negatives. Diagonala secundară, în cazul de clasificare binară va conține numărul de False Positives și False Negatives.\n",
        "Analizați graficele odată ce le obțineți, pentru o mai bună (si mai vizuală) înțelegere a situației."
      ]
    },
    {
      "metadata": {
        "id": "Z8PQuDsBHr5B",
        "colab_type": "code",
        "colab": {
          "autoexec": {
            "startup": false,
            "wait_interval": 0
          }
        }
      },
      "cell_type": "code",
      "source": [
        "def print_results(X_tr_all, Y_tr_all, preds, preds_scores, test_gt, f1_folds, val_accuracy, vectorizer, clf,\\\n",
        "                 lc_msg=\"Train on all categories\\n\", cm_msg=\"Test on all categories\\n\"):\n",
        "    \n",
        "    # TODO 1. Print the 'Mean Validation Accuracy' using print_mean implemented above on the val_accuracy list\n",
        "\n",
        "    \n",
        "    # TODO 2. Print the 'Mean F1-score' using print_mean implemented above on the f1_folds list\n",
        "    \n",
        "\n",
        "    # 3. Plot the Learning Curve\n",
        "    X_tr_all = vectorizer.fit_transform(X_tr_all)\n",
        "    plot_learning_curve(clf, lc_msg + \"Accuracy vs. Training Set Size\", X_tr_all, np.array(Y_tr_all), cv=10)\n",
        "    \n",
        "    # TODO 4. Print the overall performance of the model using classification_report from sklearn\n",
        "    #    as parameters here you'll have: \n",
        "    #    - the ground truth for the test set (test_gt)\n",
        "    #    - the classes predicted by the model (preds)\n",
        "    #    - target_names=['HAM', 'SPAM'] - to have the labels nicely printed in the report\n",
        "    print (\"-----------------------------------------------------------------------------\")\n",
        "    print (\"Classification Report\")\n",
        "    print (\"-----------------------------------------------------------------------------\")\n",
        "    print(\"todo\")\n",
        "    print (\"-----------------------------------------------------------------------------\\n\")\n",
        "    \n",
        "    # 5.1. Let the compute_roc_auc boss implemented above compute the false positives rate, true pos rate and roc_auc.\n",
        "    #      Do not forget to feed it the test_gt and preds_scores as parameters!\n",
        "    fpr, tpr, roc_auc = compute_roc_auc(test_gt, preds_scores)\n",
        "    # TODO 5.2. Plot the AUC ROC using plot_roc_curve defined above\n",
        "\n",
        "    \n",
        "    # 6. Plot the Confusion Matrix\n",
        "    cm = confusion_matrix(test_gt, preds)\n",
        "    cm = cm.astype('float') / cm.sum(axis=1)[:, np.newaxis]\n",
        "    sns.heatmap(cm)\n",
        "    plt.show()\n",
        "    \n",
        "    return roc_auc"
      ],
      "execution_count": 0,
      "outputs": []
    },
    {
      "metadata": {
        "id": "e09So6RLHr5H",
        "colab_type": "text"
      },
      "cell_type": "markdown",
      "source": [
        "### Model inspection\n",
        "\n",
        "Ne zice care sunt cele mai predictive features găsite de model. În cazul nostru, care sunt cuvintele pe care modelul a ajuns să le coreleze cel mai tare cu spam/ham."
      ]
    },
    {
      "metadata": {
        "id": "dKjL-8HsHr5J",
        "colab_type": "code",
        "colab": {
          "autoexec": {
            "startup": false,
            "wait_interval": 0
          }
        }
      },
      "cell_type": "code",
      "source": [
        "def model_inspection(clf, vectorizer):\n",
        "    #NOTE THAT THIS MODEL IS THE ONE FROM THE LAST FOLD.\n",
        "    # If we want to be more accurate, we have to train use all of the data and then inspect\n",
        "    bow_feat_names = np.array(vectorizer.get_feature_names())\n",
        "    print(\"Number of non zero coefficients:\", np.count_nonzero(clf.coef_[0,:]))\n",
        "    print(\"\\nTop-20 most predicive feats for each class\")\n",
        "    print('------')\n",
        "\n",
        "    feats = np.argsort(clf.coef_[0,:])[::-1]\n",
        "    print(\"Class SPAM:\", bow_feat_names[feats[:20]])\n",
        "    print()\n",
        "    feats = np.argsort(clf.coef_[0,:])\n",
        "    print(\"Class HAM:\", bow_feat_names[feats[:20]])\n",
        "    print()"
      ],
      "execution_count": 0,
      "outputs": []
    },
    {
      "metadata": {
        "id": "WTbaV5c3Hr5Q",
        "colab_type": "code",
        "colab": {
          "autoexec": {
            "startup": false,
            "wait_interval": 0
          },
          "base_uri": "https://localhost:8080/",
          "height": 208
        },
        "outputId": "72455d2d-7701-4cb6-94a1-ca8b9ee51c44",
        "executionInfo": {
          "status": "ok",
          "timestamp": 1529177588674,
          "user_tz": -180,
          "elapsed": 2068,
          "user": {
            "displayName": "Mihaela Găman",
            "photoUrl": "https://lh3.googleusercontent.com/a/default-user=s128",
            "userId": "105187480298227677604"
          }
        }
      },
      "cell_type": "code",
      "source": [
        "# Load the dataset\n",
        "!wget 'http://codette.ro/files/spam.csv'\n"
      ],
      "execution_count": 11,
      "outputs": [
        {
          "output_type": "stream",
          "text": [
            "--2018-06-16 19:33:07--  http://codette.ro/files/spam.csv\r\n",
            "Resolving codette.ro (codette.ro)... 176.223.209.7\n",
            "Connecting to codette.ro (codette.ro)|176.223.209.7|:80... connected.\n",
            "HTTP request sent, awaiting response... 200 OK\n",
            "Length: 503663 (492K) [text/csv]\n",
            "Saving to: ‘spam.csv.4’\n",
            "\n",
            "spam.csv.4          100%[===================>] 491.86K  1.21MB/s    in 0.4s    \n",
            "\n",
            "2018-06-16 19:33:08 (1.21 MB/s) - ‘spam.csv.4’ saved [503663/503663]\n",
            "\n"
          ],
          "name": "stdout"
        }
      ]
    },
    {
      "metadata": {
        "id": "t_rOBa2hR-k_",
        "colab_type": "code",
        "colab": {
          "autoexec": {
            "startup": false,
            "wait_interval": 0
          }
        }
      },
      "cell_type": "code",
      "source": [
        "data_file = 'spam.csv'\n",
        "\n",
        "data = pd.read_csv(data_file, quotechar='\"', encoding = \"ISO-8859-1\", header=None).as_matrix()"
      ],
      "execution_count": 0,
      "outputs": []
    },
    {
      "metadata": {
        "id": "pl7whe3hHr5b",
        "colab_type": "code",
        "colab": {
          "autoexec": {
            "startup": false,
            "wait_interval": 0
          }
        }
      },
      "cell_type": "code",
      "source": [
        "# The labels (spam/ham) are loaded and converted to binary labels (1/0)\n",
        "# X_test = data[:573,1].astype(str)\n",
        "# X = data[573:,1].astype(str)\n",
        "X = data[:,1].astype(str)\n",
        "# Y_temp_test = data[:573,0].astype(np.str)\n",
        "# Y_temp = data[573:,0].astype(np.str)\n",
        "Y_temp = data[:,0].astype(np.str)\n",
        "\n",
        "# Y_test = np.zeros(len(Y_temp_test))\n",
        "Y = np.zeros(len(Y_temp))\n",
        "for i in range(len(Y_temp)):\n",
        "    if Y_temp[i] == 'spam':\n",
        "        Y[i] = 1\n",
        "        \n",
        "# for i in range(len(Y_temp_test)):\n",
        "#     if Y_temp_test[i] == 'spam':\n",
        "#         Y_test[i] = 1"
      ],
      "execution_count": 0,
      "outputs": []
    },
    {
      "metadata": {
        "id": "wVlQtMl_Hr5n",
        "colab_type": "code",
        "colab": {
          "autoexec": {
            "startup": false,
            "wait_interval": 0
          },
          "base_uri": "https://localhost:8080/",
          "height": 885
        },
        "outputId": "6d00417b-7a90-40a9-a5be-8ce2f7e6a4df",
        "executionInfo": {
          "status": "ok",
          "timestamp": 1529177606823,
          "user_tz": -180,
          "elapsed": 15847,
          "user": {
            "displayName": "Mihaela Găman",
            "photoUrl": "https://lh3.googleusercontent.com/a/default-user=s128",
            "userId": "105187480298227677604"
          }
        }
      },
      "cell_type": "code",
      "source": [
        "# Build and Train the classifier\n",
        "skf = StratifiedKFold(n_splits=10, random_state=100)\n",
        "X_tr_all, Y_tr_all, preds, preds_scores, test_gt, f1_folds, val_accuracy, vectorizer, clf = run_lr(X, Y, skf)\n",
        "\n",
        "# preds_test = clf.predict(vectorizer.transform(X_test))\n",
        "# preds_test_scores = clf.predict_proba(vectorizer.transform(X_test))[:, 1]\n",
        "# f1_test = f1_score(Y_test, preds_test)\n",
        "# val_acc_test = accuracy_score(Y_test, preds_test)"
      ],
      "execution_count": 14,
      "outputs": [
        {
          "output_type": "stream",
          "text": [
            "Fold  1\n",
            "----\n",
            "{'C': 100000.0}\n",
            "0.9820538384845464\n",
            "----\n",
            "Fold  2\n",
            "----\n",
            "{'C': 100000.0}\n",
            "0.9832502492522432\n",
            "----\n",
            "Fold  3\n",
            "----\n",
            "{'C': 100000.0}\n",
            "0.9818544366899302\n",
            "----\n",
            "Fold  4\n",
            "----\n",
            "{'C': 10000.0}\n",
            "0.9824526420737787\n",
            "----\n",
            "Fold  5\n",
            "----\n",
            "{'C': 1000.0}\n",
            "0.9826520438683948\n",
            "----\n",
            "Fold  6\n",
            "----\n",
            "{'C': 1000.0}\n",
            "0.9836490528414755\n",
            "----\n",
            "Fold  7\n",
            "----\n",
            "{'C': 100000.0}\n",
            "0.9820574162679426\n",
            "----\n",
            "Fold  8\n",
            "----\n",
            "{'C': 1000.0}\n",
            "0.9808650588000797\n",
            "----\n",
            "Fold  9\n",
            "----\n",
            "{'C': 1000.0}\n",
            "0.9814630257125773\n",
            "----\n",
            "Fold  10\n",
            "----\n",
            "{'C': 1000.0}\n",
            "0.9820609926250747\n",
            "----\n"
          ],
          "name": "stdout"
        }
      ]
    },
    {
      "metadata": {
        "id": "30a0-kKGHr53",
        "colab_type": "code",
        "colab": {
          "autoexec": {
            "startup": false,
            "wait_interval": 0
          },
          "base_uri": "https://localhost:8080/",
          "height": 1458
        },
        "outputId": "f7d14cac-2ad3-4c3a-9e0b-f3a00df9b2bb",
        "executionInfo": {
          "status": "ok",
          "timestamp": 1529177653364,
          "user_tz": -180,
          "elapsed": 3761,
          "user": {
            "displayName": "Mihaela Găman",
            "photoUrl": "https://lh3.googleusercontent.com/a/default-user=s128",
            "userId": "105187480298227677604"
          }
        }
      },
      "cell_type": "code",
      "source": [
        "# Print the results\n",
        "#print_results(X_test, Y_test, preds_test, preds_test_scores, Y_test, f1_test, val_acc_test, vectorizer, clf)\n",
        "# Print the results\n",
        "print_results(X, Y, preds, preds_scores, test_gt, f1_folds, val_accuracy, vectorizer, clf)"
      ],
      "execution_count": 16,
      "outputs": [
        {
          "output_type": "stream",
          "text": [
            "-----------------------------------------------------------------------------\n",
            "Mean validation accuracy:  0.9822358756616042 0.0007722504867613142\n",
            "-----------------------------------------------------------------------------\n",
            "\n",
            "-----------------------------------------------------------------------------\n",
            "Mean Macro F1-score:  0.948713043819527 0.012123535974843109\n",
            "-----------------------------------------------------------------------------\n",
            "\n",
            "-----------------------------------------------------------------------------\n",
            "Classification Report\n",
            "-----------------------------------------------------------------------------\n",
            "             precision    recall  f1-score   support\n",
            "\n",
            "        HAM       0.99      1.00      0.99      4826\n",
            "       SPAM       0.98      0.92      0.95       747\n",
            "\n",
            "avg / total       0.99      0.99      0.99      5573\n",
            "\n",
            "-----------------------------------------------------------------------------\n",
            "\n"
          ],
          "name": "stdout"
        },
        {
          "output_type": "display_data",
          "data": {
            "image/png": "[encoded data removed]",
            "text/plain": [
              "<matplotlib.figure.Figure at 0x7f76f8e6ab70>"
            ]
          },
          "metadata": {
            "tags": []
          }
        },
        {
          "output_type": "display_data",
          "data": {
            "image/png": "[encoded data removed]",
            "text/plain": [
              "<matplotlib.figure.Figure at 0x7f76f8ddbf60>"
            ]
          },
          "metadata": {
            "tags": []
          }
        },
        {
          "output_type": "display_data",
          "data": {
            "image/png": "[encoded data removed]",
            "text/plain": [
              "<matplotlib.figure.Figure at 0x7f76f9ab57f0>"
            ]
          },
          "metadata": {
            "tags": []
          }
        },
        {
          "output_type": "execute_result",
          "data": {
            "text/plain": [
              "0.9882297528281381"
            ]
          },
          "metadata": {
            "tags": []
          },
          "execution_count": 16
        }
      ]
    },
    {
      "metadata": {
        "id": "2Lfm7OtdHr6B",
        "colab_type": "code",
        "colab": {
          "autoexec": {
            "startup": false,
            "wait_interval": 0
          },
          "base_uri": "https://localhost:8080/",
          "height": 278
        },
        "outputId": "d42c0188-8c85-4351-9220-8371151da8ee",
        "executionInfo": {
          "status": "ok",
          "timestamp": 1529177660579,
          "user_tz": -180,
          "elapsed": 823,
          "user": {
            "displayName": "Mihaela Găman",
            "photoUrl": "https://lh3.googleusercontent.com/a/default-user=s128",
            "userId": "105187480298227677604"
          }
        }
      },
      "cell_type": "code",
      "source": [
        "# Model inspection\n",
        "model_inspection(clf, vectorizer)"
      ],
      "execution_count": 17,
      "outputs": [
        {
          "output_type": "stream",
          "text": [
            "Number of non zero coefficients: 20312\n",
            "\n",
            "Top-20 most predicive feats for each class\n",
            "------\n",
            "Class SPAM: ['take part' 'ringtone is waiting' 'box 113 bray' 'told dat'\n",
            " 'team scoring starts' 'callcost 150ppm' '12 mths' 'over 18' 'light'\n",
            " 'can bathe' 'on yer' '350 award if' 'to speak' 'cardiff is'\n",
            " 'any time after' 'plaza' '150p min 18' 'once get' 'getstop on'\n",
            " 'on 09056242159']\n",
            "\n",
            "Class HAM: ['mobile from only' 'lor we' 'but pain' 'juz go' 've not' 'entered my'\n",
            " 'sae box326 cw25wx' 'inches' 'home liao' 'com there' 'howz that'\n",
            " 'settled in for' 'gt at' 'free bx420' 'got that persons' 'threw thm'\n",
            " 'girl margaret hello' 'is rs lt' 'are entitled to' 'friends what you']\n",
            "\n"
          ],
          "name": "stdout"
        }
      ]
    }
  ]
}